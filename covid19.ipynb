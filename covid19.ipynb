{
 "cells": [
  {
   "cell_type": "markdown",
   "metadata": {},
   "source": [
    "# Import Required Libraries\n",
    "Import the necessary libraries, including pandas."
   ]
  },
  {
   "cell_type": "code",
   "execution_count": 27,
   "metadata": {},
   "outputs": [],
   "source": [
    "# Importing the pandas library\n",
    "import pandas as pd"
   ]
  },
  {
   "cell_type": "markdown",
   "metadata": {},
   "source": [
    "# Load the Dataset\n",
    "Use pandas to load the 'tested_worldwide.csv' dataset from the root level."
   ]
  },
  {
   "cell_type": "code",
   "execution_count": 2,
   "metadata": {},
   "outputs": [
    {
     "data": {
      "text/html": [
       "<div>\n",
       "<style scoped>\n",
       "    .dataframe tbody tr th:only-of-type {\n",
       "        vertical-align: middle;\n",
       "    }\n",
       "\n",
       "    .dataframe tbody tr th {\n",
       "        vertical-align: top;\n",
       "    }\n",
       "\n",
       "    .dataframe thead th {\n",
       "        text-align: right;\n",
       "    }\n",
       "</style>\n",
       "<table border=\"1\" class=\"dataframe\">\n",
       "  <thead>\n",
       "    <tr style=\"text-align: right;\">\n",
       "      <th></th>\n",
       "      <th>Date</th>\n",
       "      <th>Country_Region</th>\n",
       "      <th>Province_State</th>\n",
       "      <th>positive</th>\n",
       "      <th>active</th>\n",
       "      <th>hospitalized</th>\n",
       "      <th>hospitalizedCurr</th>\n",
       "      <th>recovered</th>\n",
       "      <th>death</th>\n",
       "      <th>total_tested</th>\n",
       "      <th>daily_tested</th>\n",
       "      <th>daily_positive</th>\n",
       "    </tr>\n",
       "  </thead>\n",
       "  <tbody>\n",
       "    <tr>\n",
       "      <th>0</th>\n",
       "      <td>2020-01-16</td>\n",
       "      <td>Iceland</td>\n",
       "      <td>All States</td>\n",
       "      <td>3.0</td>\n",
       "      <td>NaN</td>\n",
       "      <td>NaN</td>\n",
       "      <td>NaN</td>\n",
       "      <td>NaN</td>\n",
       "      <td>NaN</td>\n",
       "      <td>NaN</td>\n",
       "      <td>NaN</td>\n",
       "      <td>NaN</td>\n",
       "    </tr>\n",
       "    <tr>\n",
       "      <th>1</th>\n",
       "      <td>2020-01-17</td>\n",
       "      <td>Iceland</td>\n",
       "      <td>All States</td>\n",
       "      <td>4.0</td>\n",
       "      <td>NaN</td>\n",
       "      <td>NaN</td>\n",
       "      <td>NaN</td>\n",
       "      <td>NaN</td>\n",
       "      <td>NaN</td>\n",
       "      <td>NaN</td>\n",
       "      <td>NaN</td>\n",
       "      <td>1.0</td>\n",
       "    </tr>\n",
       "    <tr>\n",
       "      <th>2</th>\n",
       "      <td>2020-01-18</td>\n",
       "      <td>Iceland</td>\n",
       "      <td>All States</td>\n",
       "      <td>7.0</td>\n",
       "      <td>NaN</td>\n",
       "      <td>NaN</td>\n",
       "      <td>NaN</td>\n",
       "      <td>NaN</td>\n",
       "      <td>NaN</td>\n",
       "      <td>NaN</td>\n",
       "      <td>NaN</td>\n",
       "      <td>3.0</td>\n",
       "    </tr>\n",
       "    <tr>\n",
       "      <th>3</th>\n",
       "      <td>2020-01-20</td>\n",
       "      <td>South Korea</td>\n",
       "      <td>All States</td>\n",
       "      <td>1.0</td>\n",
       "      <td>NaN</td>\n",
       "      <td>NaN</td>\n",
       "      <td>NaN</td>\n",
       "      <td>NaN</td>\n",
       "      <td>NaN</td>\n",
       "      <td>4.0</td>\n",
       "      <td>NaN</td>\n",
       "      <td>NaN</td>\n",
       "    </tr>\n",
       "    <tr>\n",
       "      <th>4</th>\n",
       "      <td>2020-01-22</td>\n",
       "      <td>United States</td>\n",
       "      <td>All States</td>\n",
       "      <td>0.0</td>\n",
       "      <td>NaN</td>\n",
       "      <td>NaN</td>\n",
       "      <td>NaN</td>\n",
       "      <td>NaN</td>\n",
       "      <td>0.0</td>\n",
       "      <td>0.0</td>\n",
       "      <td>NaN</td>\n",
       "      <td>NaN</td>\n",
       "    </tr>\n",
       "  </tbody>\n",
       "</table>\n",
       "</div>"
      ],
      "text/plain": [
       "         Date Country_Region Province_State  positive  active  hospitalized  \\\n",
       "0  2020-01-16        Iceland     All States       3.0     NaN           NaN   \n",
       "1  2020-01-17        Iceland     All States       4.0     NaN           NaN   \n",
       "2  2020-01-18        Iceland     All States       7.0     NaN           NaN   \n",
       "3  2020-01-20    South Korea     All States       1.0     NaN           NaN   \n",
       "4  2020-01-22  United States     All States       0.0     NaN           NaN   \n",
       "\n",
       "   hospitalizedCurr  recovered  death  total_tested  daily_tested  \\\n",
       "0               NaN        NaN    NaN           NaN           NaN   \n",
       "1               NaN        NaN    NaN           NaN           NaN   \n",
       "2               NaN        NaN    NaN           NaN           NaN   \n",
       "3               NaN        NaN    NaN           4.0           NaN   \n",
       "4               NaN        NaN    0.0           0.0           NaN   \n",
       "\n",
       "   daily_positive  \n",
       "0             NaN  \n",
       "1             1.0  \n",
       "2             3.0  \n",
       "3             NaN  \n",
       "4             NaN  "
      ]
     },
     "execution_count": 2,
     "metadata": {},
     "output_type": "execute_result"
    }
   ],
   "source": [
    "# Load the dataset\n",
    "tested_worldwide = pd.read_csv('exercisefiles/dataengineer/tested_worldwide.csv')\n",
    "\n",
    "# Display the first 5 rows of the dataset\n",
    "tested_worldwide.head()"
   ]
  },
  {
   "cell_type": "markdown",
   "metadata": {},
   "source": [
    "# Display the First 5 Rows\n",
    "Use the head() function to display the first 5 rows of the dataset."
   ]
  },
  {
   "cell_type": "code",
   "execution_count": 3,
   "metadata": {},
   "outputs": [
    {
     "data": {
      "text/html": [
       "<div>\n",
       "<style scoped>\n",
       "    .dataframe tbody tr th:only-of-type {\n",
       "        vertical-align: middle;\n",
       "    }\n",
       "\n",
       "    .dataframe tbody tr th {\n",
       "        vertical-align: top;\n",
       "    }\n",
       "\n",
       "    .dataframe thead th {\n",
       "        text-align: right;\n",
       "    }\n",
       "</style>\n",
       "<table border=\"1\" class=\"dataframe\">\n",
       "  <thead>\n",
       "    <tr style=\"text-align: right;\">\n",
       "      <th></th>\n",
       "      <th>Date</th>\n",
       "      <th>Country_Region</th>\n",
       "      <th>Province_State</th>\n",
       "      <th>positive</th>\n",
       "      <th>active</th>\n",
       "      <th>hospitalized</th>\n",
       "      <th>hospitalizedCurr</th>\n",
       "      <th>recovered</th>\n",
       "      <th>death</th>\n",
       "      <th>total_tested</th>\n",
       "      <th>daily_tested</th>\n",
       "      <th>daily_positive</th>\n",
       "    </tr>\n",
       "  </thead>\n",
       "  <tbody>\n",
       "    <tr>\n",
       "      <th>0</th>\n",
       "      <td>2020-01-16</td>\n",
       "      <td>Iceland</td>\n",
       "      <td>All States</td>\n",
       "      <td>3.0</td>\n",
       "      <td>NaN</td>\n",
       "      <td>NaN</td>\n",
       "      <td>NaN</td>\n",
       "      <td>NaN</td>\n",
       "      <td>NaN</td>\n",
       "      <td>NaN</td>\n",
       "      <td>NaN</td>\n",
       "      <td>NaN</td>\n",
       "    </tr>\n",
       "    <tr>\n",
       "      <th>1</th>\n",
       "      <td>2020-01-17</td>\n",
       "      <td>Iceland</td>\n",
       "      <td>All States</td>\n",
       "      <td>4.0</td>\n",
       "      <td>NaN</td>\n",
       "      <td>NaN</td>\n",
       "      <td>NaN</td>\n",
       "      <td>NaN</td>\n",
       "      <td>NaN</td>\n",
       "      <td>NaN</td>\n",
       "      <td>NaN</td>\n",
       "      <td>1.0</td>\n",
       "    </tr>\n",
       "    <tr>\n",
       "      <th>2</th>\n",
       "      <td>2020-01-18</td>\n",
       "      <td>Iceland</td>\n",
       "      <td>All States</td>\n",
       "      <td>7.0</td>\n",
       "      <td>NaN</td>\n",
       "      <td>NaN</td>\n",
       "      <td>NaN</td>\n",
       "      <td>NaN</td>\n",
       "      <td>NaN</td>\n",
       "      <td>NaN</td>\n",
       "      <td>NaN</td>\n",
       "      <td>3.0</td>\n",
       "    </tr>\n",
       "    <tr>\n",
       "      <th>3</th>\n",
       "      <td>2020-01-20</td>\n",
       "      <td>South Korea</td>\n",
       "      <td>All States</td>\n",
       "      <td>1.0</td>\n",
       "      <td>NaN</td>\n",
       "      <td>NaN</td>\n",
       "      <td>NaN</td>\n",
       "      <td>NaN</td>\n",
       "      <td>NaN</td>\n",
       "      <td>4.0</td>\n",
       "      <td>NaN</td>\n",
       "      <td>NaN</td>\n",
       "    </tr>\n",
       "    <tr>\n",
       "      <th>4</th>\n",
       "      <td>2020-01-22</td>\n",
       "      <td>United States</td>\n",
       "      <td>All States</td>\n",
       "      <td>0.0</td>\n",
       "      <td>NaN</td>\n",
       "      <td>NaN</td>\n",
       "      <td>NaN</td>\n",
       "      <td>NaN</td>\n",
       "      <td>0.0</td>\n",
       "      <td>0.0</td>\n",
       "      <td>NaN</td>\n",
       "      <td>NaN</td>\n",
       "    </tr>\n",
       "  </tbody>\n",
       "</table>\n",
       "</div>"
      ],
      "text/plain": [
       "         Date Country_Region Province_State  positive  active  hospitalized  \\\n",
       "0  2020-01-16        Iceland     All States       3.0     NaN           NaN   \n",
       "1  2020-01-17        Iceland     All States       4.0     NaN           NaN   \n",
       "2  2020-01-18        Iceland     All States       7.0     NaN           NaN   \n",
       "3  2020-01-20    South Korea     All States       1.0     NaN           NaN   \n",
       "4  2020-01-22  United States     All States       0.0     NaN           NaN   \n",
       "\n",
       "   hospitalizedCurr  recovered  death  total_tested  daily_tested  \\\n",
       "0               NaN        NaN    NaN           NaN           NaN   \n",
       "1               NaN        NaN    NaN           NaN           NaN   \n",
       "2               NaN        NaN    NaN           NaN           NaN   \n",
       "3               NaN        NaN    NaN           4.0           NaN   \n",
       "4               NaN        NaN    0.0           0.0           NaN   \n",
       "\n",
       "   daily_positive  \n",
       "0             NaN  \n",
       "1             1.0  \n",
       "2             3.0  \n",
       "3             NaN  \n",
       "4             NaN  "
      ]
     },
     "execution_count": 3,
     "metadata": {},
     "output_type": "execute_result"
    }
   ],
   "source": [
    "# Display the first 5 rows of the dataset\n",
    "tested_worldwide.head()"
   ]
  },
  {
   "cell_type": "markdown",
   "metadata": {},
   "source": [
    "# Display the number of rows and columns in the dataframe\n"
   ]
  },
  {
   "cell_type": "code",
   "execution_count": 4,
   "metadata": {},
   "outputs": [
    {
     "name": "stdout",
     "output_type": "stream",
     "text": [
      "Number of rows: 27641\n",
      "Number of columns: 12\n"
     ]
    }
   ],
   "source": [
    "num_rows, num_cols = tested_worldwide.shape\n",
    "print(\"Number of rows:\", num_rows)\n",
    "print(\"Number of columns:\", num_cols)"
   ]
  },
  {
   "cell_type": "markdown",
   "metadata": {},
   "source": [
    "# Display the data types of each column"
   ]
  },
  {
   "cell_type": "code",
   "execution_count": 5,
   "metadata": {},
   "outputs": [
    {
     "data": {
      "text/plain": [
       "Date                 object\n",
       "Country_Region       object\n",
       "Province_State       object\n",
       "positive            float64\n",
       "active              float64\n",
       "hospitalized        float64\n",
       "hospitalizedCurr    float64\n",
       "recovered           float64\n",
       "death               float64\n",
       "total_tested        float64\n",
       "daily_tested        float64\n",
       "daily_positive      float64\n",
       "dtype: object"
      ]
     },
     "execution_count": 5,
     "metadata": {},
     "output_type": "execute_result"
    }
   ],
   "source": [
    "tested_worldwide.dtypes\n"
   ]
  },
  {
   "cell_type": "markdown",
   "metadata": {},
   "source": [
    "# Display the number of missing values in each column "
   ]
  },
  {
   "cell_type": "code",
   "execution_count": 6,
   "metadata": {},
   "outputs": [
    {
     "data": {
      "text/plain": [
       "Date                    0\n",
       "Country_Region          0\n",
       "Province_State          0\n",
       "positive             4242\n",
       "active               9833\n",
       "hospitalized        19231\n",
       "hospitalizedCurr    13080\n",
       "recovered            9626\n",
       "death                4010\n",
       "total_tested          912\n",
       "daily_tested         1174\n",
       "daily_positive       4557\n",
       "dtype: int64"
      ]
     },
     "execution_count": 6,
     "metadata": {},
     "output_type": "execute_result"
    }
   ],
   "source": [
    "tested_worldwide.isnull().sum()\n"
   ]
  },
  {
   "cell_type": "markdown",
   "metadata": {},
   "source": [
    "# Display the number of unique values in each column"
   ]
  },
  {
   "cell_type": "code",
   "execution_count": 7,
   "metadata": {},
   "outputs": [
    {
     "data": {
      "text/plain": [
       "Date                  297\n",
       "Country_Region        147\n",
       "Province_State         81\n",
       "positive            14998\n",
       "active               9554\n",
       "hospitalized         4862\n",
       "hospitalizedCurr     2904\n",
       "recovered            9183\n",
       "death                5641\n",
       "total_tested        23610\n",
       "daily_tested        13375\n",
       "daily_positive       3440\n",
       "dtype: int64"
      ]
     },
     "execution_count": 7,
     "metadata": {},
     "output_type": "execute_result"
    }
   ],
   "source": [
    "tested_worldwide.nunique()\n"
   ]
  },
  {
   "cell_type": "markdown",
   "metadata": {},
   "source": [
    "# Drop the columns that are not needed for the analysis"
   ]
  },
  {
   "cell_type": "code",
   "execution_count": 8,
   "metadata": {},
   "outputs": [],
   "source": [
    "# Drop the columns that are not needed for the analysis\n",
    "columns_to_drop = ['Province_State', 'active', 'hospitalized', 'hospitalizedCurr', 'recovered', 'death', 'daily_tested', 'daily_positive']\n",
    "tested_worldwide = tested_worldwide[['Country_Region', 'positive', 'total_tested']]\n"
   ]
  },
  {
   "cell_type": "markdown",
   "metadata": {},
   "source": [
    "# Rename the columns to make them more readable"
   ]
  },
  {
   "cell_type": "code",
   "execution_count": 9,
   "metadata": {},
   "outputs": [],
   "source": [
    "tested_worldwide = tested_worldwide.rename(columns={'Country_Region': 'Country', 'positive': 'Positive Cases', 'total_tested': 'Total Tested'})\n"
   ]
  },
  {
   "cell_type": "markdown",
   "metadata": {},
   "source": [
    "# Drop the rows that have missing values"
   ]
  },
  {
   "cell_type": "code",
   "execution_count": 10,
   "metadata": {},
   "outputs": [],
   "source": [
    "# Drop the rows that have missing values\n",
    "tested_worldwide = tested_worldwide.dropna()\n"
   ]
  },
  {
   "cell_type": "markdown",
   "metadata": {},
   "source": [
    "# Convert the data types of the columns to the appropriate types"
   ]
  },
  {
   "cell_type": "code",
   "execution_count": 12,
   "metadata": {},
   "outputs": [],
   "source": [
    "tested_worldwide['Positive Cases'] = tested_worldwide['Positive Cases'].astype(int)\n",
    "tested_worldwide['Total Tested'] = tested_worldwide['Total Tested'].astype(int)\n"
   ]
  },
  {
   "cell_type": "markdown",
   "metadata": {},
   "source": [
    "# Display the number of missing values in each column"
   ]
  },
  {
   "cell_type": "code",
   "execution_count": 13,
   "metadata": {},
   "outputs": [
    {
     "data": {
      "text/plain": [
       "Country           0\n",
       "Positive Cases    0\n",
       "Total Tested      0\n",
       "dtype: int64"
      ]
     },
     "execution_count": 13,
     "metadata": {},
     "output_type": "execute_result"
    }
   ],
   "source": [
    "tested_worldwide.isnull().sum()\n"
   ]
  },
  {
   "cell_type": "markdown",
   "metadata": {},
   "source": [
    "# Create a new dataframe that contains the total number of positive cases for each country"
   ]
  },
  {
   "cell_type": "code",
   "execution_count": 14,
   "metadata": {},
   "outputs": [],
   "source": [
    "positive_cases_by_country = tested_worldwide.groupby('Country')['Positive Cases'].sum().reset_index()\n"
   ]
  },
  {
   "cell_type": "markdown",
   "metadata": {},
   "source": [
    "# Sort the dataframe in descending order of the total number of positive cases"
   ]
  },
  {
   "cell_type": "code",
   "execution_count": 15,
   "metadata": {},
   "outputs": [],
   "source": [
    "positive_cases_by_country = positive_cases_by_country.sort_values(by='Positive Cases', ascending=False)\n"
   ]
  },
  {
   "cell_type": "markdown",
   "metadata": {},
   "source": [
    "# Display the top ten countries with the most positive cases"
   ]
  },
  {
   "cell_type": "code",
   "execution_count": 16,
   "metadata": {},
   "outputs": [
    {
     "name": "stdout",
     "output_type": "stream",
     "text": [
      "            Country  Positive Cases\n",
      "112   United States      1837768204\n",
      "48            Italy        64199206\n",
      "17           Canada        50960416\n",
      "7        Bangladesh        43771939\n",
      "106          Turkey        16556127\n",
      "26          Czechia        10822251\n",
      "88           Russia        10663267\n",
      "2           Armenia         7225809\n",
      "21       Costa Rica         6655702\n",
      "111  United Kingdom         4924956\n"
     ]
    }
   ],
   "source": [
    "top_ten_countries = positive_cases_by_country.head(10)\n",
    "print(top_ten_countries)\n"
   ]
  },
  {
   "cell_type": "markdown",
   "metadata": {},
   "source": [
    "# Create a new dataframe that contains the total number of tests conducted for each country"
   ]
  },
  {
   "cell_type": "code",
   "execution_count": 17,
   "metadata": {},
   "outputs": [],
   "source": [
    "tests_conducted_by_country = tested_worldwide.groupby('Country')['Total Tested'].sum().reset_index()\n"
   ]
  },
  {
   "cell_type": "markdown",
   "metadata": {},
   "source": [
    "# Sort the dataframe in descending order of the total number of tests conducted"
   ]
  },
  {
   "cell_type": "code",
   "execution_count": 18,
   "metadata": {},
   "outputs": [],
   "source": [
    "tests_conducted_by_country = tests_conducted_by_country.sort_values(by='Total Tested', ascending=False)\n"
   ]
  },
  {
   "cell_type": "markdown",
   "metadata": {},
   "source": [
    "# Display the top ten countries with the most tests conducted"
   ]
  },
  {
   "cell_type": "code",
   "execution_count": 19,
   "metadata": {},
   "outputs": [
    {
     "name": "stdout",
     "output_type": "stream",
     "text": [
      "           Country  Total Tested\n",
      "112  United States   23592177772\n",
      "17          Canada    1797986542\n",
      "48           Italy    1547472209\n",
      "47          Israel     388197039\n",
      "3        Australia     323233309\n",
      "88          Russia     300300499\n",
      "7       Bangladesh     233149800\n",
      "106         Turkey     228325949\n",
      "26         Czechia     180065598\n",
      "39          Greece     142101237\n"
     ]
    }
   ],
   "source": [
    "top_ten_tests_conducted = tests_conducted_by_country.head(10)\n",
    "print(top_ten_tests_conducted)\n"
   ]
  },
  {
   "cell_type": "markdown",
   "metadata": {},
   "source": [
    "# Merge the two dataframes created in the previous steps"
   ]
  },
  {
   "cell_type": "code",
   "execution_count": 20,
   "metadata": {},
   "outputs": [],
   "source": [
    "merged_df = positive_cases_by_country.merge(tests_conducted_by_country, on='Country')\n"
   ]
  },
  {
   "cell_type": "markdown",
   "metadata": {},
   "source": [
    "# Create a new column that contains the ratio of positive cases to the number of tests conducted"
   ]
  },
  {
   "cell_type": "code",
   "execution_count": 21,
   "metadata": {},
   "outputs": [],
   "source": [
    "merged_df['Positive Cases Ratio'] = merged_df['Positive Cases'] / merged_df['Total Tested']\n"
   ]
  },
  {
   "cell_type": "markdown",
   "metadata": {},
   "source": [
    "# Sort the dataframe in descending order of the ratio of positive cases to the number of tests conducted"
   ]
  },
  {
   "cell_type": "code",
   "execution_count": 22,
   "metadata": {},
   "outputs": [],
   "source": [
    "sorted_df = merged_df.sort_values(by='Positive Cases Ratio', ascending=False)\n"
   ]
  },
  {
   "cell_type": "markdown",
   "metadata": {},
   "source": [
    "# Display the top three countries with the highest ratio of positive cases to the number of tests conducted"
   ]
  },
  {
   "cell_type": "code",
   "execution_count": 23,
   "metadata": {},
   "outputs": [
    {
     "name": "stdout",
     "output_type": "stream",
     "text": [
      "          Country  Positive Cases  Total Tested  Positive Cases Ratio\n",
      "106      Tanzania             509           652              0.780675\n",
      "103  Burkina Faso             641          1333              0.480870\n",
      "50        Ecuador           91850        284956              0.322330\n"
     ]
    }
   ],
   "source": [
    "top_three_countries = sorted_df.head(3)\n",
    "print(top_three_countries)\n"
   ]
  },
  {
   "cell_type": "markdown",
   "metadata": {},
   "source": [
    "# Display the results a chart that shows the top three countries with the highest ratio of positive cases to the number of tests conducted"
   ]
  },
  {
   "cell_type": "code",
   "execution_count": 28,
   "metadata": {},
   "outputs": [
    {
     "data": {
      "image/png": "[encoded data removed]",
      "text/plain": [
       "<Figure size 1000x600 with 1 Axes>"
      ]
     },
     "metadata": {},
     "output_type": "display_data"
    }
   ],
   "source": [
    "import matplotlib.pyplot as plt\n",
    "\n",
    "top_three_countries.plot(x='Country', y='Positive Cases Ratio', kind='bar', figsize=(10, 6))\n",
    "plt.xlabel('Country')\n",
    "plt.ylabel('Positive Cases Ratio')\n",
    "plt.title('Top Three Countries with Highest Positive Cases Ratio')\n",
    "plt.show()\n"
   ]
  },
  {
   "cell_type": "markdown",
   "metadata": {},
   "source": [
    "# Display the results in a chart that shows the top ten countries with the most positive cases"
   ]
  },
  {
   "cell_type": "code",
   "execution_count": 29,
   "metadata": {},
   "outputs": [
    {
     "data": {
      "image/png": "[encoded data removed]",
      "text/plain": [
       "<Figure size 1000x600 with 1 Axes>"
      ]
     },
     "metadata": {},
     "output_type": "display_data"
    }
   ],
   "source": [
    "top_ten_countries.plot(x='Country', y='Positive Cases', kind='bar', figsize=(10, 6))\n",
    "plt.xlabel('Country')\n",
    "plt.ylabel('Positive Cases')\n",
    "plt.title('Top Ten Countries with the Most Positive Cases')\n",
    "plt.show()\n"
   ]
  },
  {
   "cell_type": "markdown",
   "metadata": {},
   "source": [
    "# Display the results in a chart that shows the top ten countries with the most tests conducted"
   ]
  },
  {
   "cell_type": "code",
   "execution_count": 30,
   "metadata": {},
   "outputs": [
    {
     "data": {
      "image/png": "[encoded data removed]",
      "text/plain": [
       "<Figure size 1000x600 with 1 Axes>"
      ]
     },
     "metadata": {},
     "output_type": "display_data"
    }
   ],
   "source": [
    "top_ten_tests_conducted.plot(x='Country', y='Total Tested', kind='bar', figsize=(10, 6))\n",
    "plt.xlabel('Country')\n",
    "plt.ylabel('Total Tests Conducted')\n",
    "plt.title('Top Ten Countries with the Most Tests Conducted')\n",
    "plt.show()\n"
   ]
  },
  {
   "cell_type": "markdown",
   "metadata": {},
   "source": [
    "# What are your conclusions?"
   ]
  },
  {
   "cell_type": "code",
   "execution_count": 31,
   "metadata": {},
   "outputs": [
    {
     "name": "stdout",
     "output_type": "stream",
     "text": [
      "\n",
      "Based on the analysis of the variables in this Jupyter Notebook, the following conclusions can be drawn:\n",
      "\n",
      "1. The dataset `tested_worldwide` contains information about the positive cases and total tests conducted in different countries.\n",
      "2. The variable `num_rows` indicates that there are 27,641 rows in the `tested_worldwide` dataset.\n",
      "3. The variable `num_cols` indicates that there are 12 columns in the `tested_worldwide` dataset.\n",
      "4. The variable `columns_to_drop` is a list that contains the names of columns to be dropped from the `tested_worldwide` dataset.\n",
      "5. The variable `merged_df` is a DataFrame that contains the merged information of positive cases, total tests conducted, and the positive cases ratio for each country.\n",
      "6. The variable `positive_cases_by_country` is a DataFrame that contains the total number of positive cases for each country.\n",
      "7. The variable `tests_conducted_by_country` is a DataFrame that contains the total number of tests conducted for each country.\n",
      "8. The variable `sorted_df` is a DataFrame that contains the countries sorted in descending order based on the positive cases ratio.\n",
      "9. The variable `top_ten_countries` is a DataFrame that contains the top ten countries with the most positive cases.\n",
      "10. The variable `top_ten_tests_conducted` is a DataFrame that contains the top ten countries with the most tests conducted.\n",
      "11. The variable `top_three_countries` is a DataFrame that contains the top three countries with the highest positive cases ratio.\n",
      "\n",
      "Based on these variables, further analysis and visualizations can be performed to gain insights into the COVID-19 testing and positive cases worldwide.\n",
      "\n"
     ]
    }
   ],
   "source": [
    "# Conclusions\n",
    "print(\"\"\"\n",
    "Based on the analysis of the variables in this Jupyter Notebook, the following conclusions can be drawn:\n",
    "\n",
    "1. The dataset `tested_worldwide` contains information about the positive cases and total tests conducted in different countries.\n",
    "2. The variable `num_rows` indicates that there are 27,641 rows in the `tested_worldwide` dataset.\n",
    "3. The variable `num_cols` indicates that there are 12 columns in the `tested_worldwide` dataset.\n",
    "4. The variable `columns_to_drop` is a list that contains the names of columns to be dropped from the `tested_worldwide` dataset.\n",
    "5. The variable `merged_df` is a DataFrame that contains the merged information of positive cases, total tests conducted, and the positive cases ratio for each country.\n",
    "6. The variable `positive_cases_by_country` is a DataFrame that contains the total number of positive cases for each country.\n",
    "7. The variable `tests_conducted_by_country` is a DataFrame that contains the total number of tests conducted for each country.\n",
    "8. The variable `sorted_df` is a DataFrame that contains the countries sorted in descending order based on the positive cases ratio.\n",
    "9. The variable `top_ten_countries` is a DataFrame that contains the top ten countries with the most positive cases.\n",
    "10. The variable `top_ten_tests_conducted` is a DataFrame that contains the top ten countries with the most tests conducted.\n",
    "11. The variable `top_three_countries` is a DataFrame that contains the top three countries with the highest positive cases ratio.\n",
    "\n",
    "Based on these variables, further analysis and visualizations can be performed to gain insights into the COVID-19 testing and positive cases worldwide.\n",
    "\"\"\")"
   ]
  },
  {
   "cell_type": "code",
   "execution_count": 32,
   "metadata": {},
   "outputs": [
    {
     "name": "stdout",
     "output_type": "stream",
     "text": [
      "\n",
      "The limitations of this analysis could include:\n",
      "\n",
      "1. Data Quality: The quality of the data is dependent on the accuracy and completeness of the reported testing data from each country. If there are inaccuracies or inconsistencies in the data, it could affect the results of the analysis.\n",
      "2. Temporal Factors: The data is a snapshot in time and may not reflect the current situation. The number of tests and positive cases can change rapidly, so the analysis may not be up-to-date.\n",
      "3. Testing Policies: Different countries have different testing policies. Some countries test widely, while others may only test symptomatic individuals or those in high-risk groups. This can affect the comparison of testing data between countries.\n",
      "4. Population Size: The analysis does not take into account the population size of each country. Countries with larger populations will naturally have more tests and cases. A per capita analysis could provide a more accurate comparison.\n",
      "5. Missing Variables: There may be other variables not included in the dataset that could affect the number of positive cases, such as the country's healthcare capacity, social distancing measures, and the prevalence of pre-existing conditions among the population.\n",
      "6. Data Interpretation: The analysis is based on raw numbers of tests and positive cases. It does not take into account the rate of increase or decrease, which could provide more insight into the spread of the virus.\n",
      "\n",
      "Remember to consider these limitations when interpreting the results of the analysis.\n",
      "\n"
     ]
    }
   ],
   "source": [
    " # Limitations\n",
    "print(\"\"\"\n",
    "The limitations of this analysis could include:\n",
    "\n",
    "1. Data Quality: The quality of the data is dependent on the accuracy and completeness of the reported testing data from each country. If there are inaccuracies or inconsistencies in the data, it could affect the results of the analysis.\n",
    "2. Temporal Factors: The data is a snapshot in time and may not reflect the current situation. The number of tests and positive cases can change rapidly, so the analysis may not be up-to-date.\n",
    "3. Testing Policies: Different countries have different testing policies. Some countries test widely, while others may only test symptomatic individuals or those in high-risk groups. This can affect the comparison of testing data between countries.\n",
    "4. Population Size: The analysis does not take into account the population size of each country. Countries with larger populations will naturally have more tests and cases. A per capita analysis could provide a more accurate comparison.\n",
    "5. Missing Variables: There may be other variables not included in the dataset that could affect the number of positive cases, such as the country's healthcare capacity, social distancing measures, and the prevalence of pre-existing conditions among the population.\n",
    "6. Data Interpretation: The analysis is based on raw numbers of tests and positive cases. It does not take into account the rate of increase or decrease, which could provide more insight into the spread of the virus.\n",
    "\n",
    "Remember to consider these limitations when interpreting the results of the analysis.\n",
    "\"\"\")"
   ]
  },
  {
   "cell_type": "code",
   "execution_count": null,
   "metadata": {},
   "outputs": [],
   "source": []
  }
 ],
 "metadata": {
  "kernelspec": {
   "display_name": "Python 3",
   "language": "python",
   "name": "python3"
  },
  "language_info": {
   "codemirror_mode": {
    "name": "ipython",
    "version": 3
   },
   "file_extension": ".py",
   "mimetype": "text/x-python",
   "name": "python",
   "nbconvert_exporter": "python",
   "pygments_lexer": "ipython3",
   "version": "3.11.8"
  },
  "orig_nbformat": 4
 },
 "nbformat": 4,
 "nbformat_minor": 2
}
